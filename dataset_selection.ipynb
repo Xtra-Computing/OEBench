{
 "cells": [
  {
   "cell_type": "code",
   "execution_count": 1,
   "metadata": {},
   "outputs": [],
   "source": [
    "import pandas as pd\n",
    "from sklearn.manifold import TSNE\n",
    "import numpy as np\n"
   ]
  },
  {
   "cell_type": "code",
   "execution_count": 2,
   "metadata": {},
   "outputs": [],
   "source": [
    "file = pd.read_excel('dataset_experiment_results.xlsx')\n",
    "file.head(60)\n",
    "file.to_csv('dataset_experiment_results.csv')\n"
   ]
  },
  {
   "cell_type": "code",
   "execution_count": 103,
   "metadata": {},
   "outputs": [
    {
     "name": "stdout",
     "output_type": "stream",
     "text": [
      "Index(['Unnamed: 0', 'dataset', 'size', 'type', 'task', '#columns',\n",
      "       'ave_rows_with_missing_values_ratio_per_window',\n",
      "       'max_rows_with_missing_values_ratio_per_window',\n",
      "       'total_rows_with_missing_values_ratio', 'overall missing value ratio',\n",
      "       'overall average null columns ratio',\n",
      "       'average null columns ratio among all windows',\n",
      "       'max average #null columns ratio among all windows',\n",
      "       'average missing value ratio among all windows',\n",
      "       'max missing value ration among all windows',\n",
      "       'IForest_ave_anomaly_ratio', 'IForest_max_anomaly_ratio',\n",
      "       'ECOD_ave_anomaly_ratio', 'ECOD_max_anomaly_ratio',\n",
      "       'mean_ave_anomaly_ratio', 'max_ave_anomaly_ratio',\n",
      "       'ECOD_overall_anomaly_ratio', 'IForest_overall_anomaly_ratio',\n",
      "       'ave_overall_anomaly_ratio', 'hdddm_drift_percentage',\n",
      "       'kdq_drift_percentage', 'ave_drift_percentage',\n",
      "       'hdddm_warning_percentage', 'kdq_warning_percentage',\n",
      "       'ave_warning_percentage', 'ks_ave_drift_percentage',\n",
      "       'ks_max_drift_percentage', 'hdddm_ave_drift_percentage',\n",
      "       'hdddm_max_drift_percentage', 'kdq_ave_drift_percentage',\n",
      "       'kdq_max_drift_percentage', 'cbdb_ave_drift_percentage',\n",
      "       'cbdb_max_drift_percentage', 'pca_ave_drift_percentage',\n",
      "       'pca_max_drift_percentage', 'ave_drift_percentage.1',\n",
      "       'max_drift_percentage', 'ks_ave_warning_percentage',\n",
      "       'ks_max_warning_percentage', 'hdddm_ave_warning_percentage',\n",
      "       'hdddm_max_warning_percentage', 'kdq_ave_warning_percentage',\n",
      "       'kdq_max_warning_percentage', 'cbdb_ave_warning_percentage',\n",
      "       'cbdb_max_warning_percentage', 'pca_ave_warning_percentage',\n",
      "       'pca_max_warning_percentage', 'ave_warning_percentage.1',\n",
      "       'max_warning_percentage', 'perm', 'adwin', 'ddm', 'eddm',\n",
      "       'concept_drift_ave', 'adwin_warning', 'ddm_warning', 'eddm_warning',\n",
      "       'ave_concept_drift_warning'],\n",
      "      dtype='object')\n"
     ]
    }
   ],
   "source": [
    "columns = file.columns\n",
    "print(columns)\n"
   ]
  },
  {
   "cell_type": "code",
   "execution_count": 104,
   "metadata": {},
   "outputs": [
    {
     "data": {
      "text/html": [
       "<div>\n",
       "<style scoped>\n",
       "    .dataframe tbody tr th:only-of-type {\n",
       "        vertical-align: middle;\n",
       "    }\n",
       "\n",
       "    .dataframe tbody tr th {\n",
       "        vertical-align: top;\n",
       "    }\n",
       "\n",
       "    .dataframe thead th {\n",
       "        text-align: right;\n",
       "    }\n",
       "</style>\n",
       "<table border=\"1\" class=\"dataframe\">\n",
       "  <thead>\n",
       "    <tr style=\"text-align: right;\">\n",
       "      <th></th>\n",
       "      <th>size</th>\n",
       "      <th>type</th>\n",
       "      <th>task</th>\n",
       "      <th>#columns</th>\n",
       "    </tr>\n",
       "  </thead>\n",
       "  <tbody>\n",
       "    <tr>\n",
       "      <th>0</th>\n",
       "      <td>188318</td>\n",
       "      <td>commerce</td>\n",
       "      <td>regression</td>\n",
       "      <td>132</td>\n",
       "    </tr>\n",
       "    <tr>\n",
       "      <th>1</th>\n",
       "      <td>10886</td>\n",
       "      <td>commerce</td>\n",
       "      <td>regression</td>\n",
       "      <td>12</td>\n",
       "    </tr>\n",
       "    <tr>\n",
       "      <th>2</th>\n",
       "      <td>9984</td>\n",
       "      <td>others</td>\n",
       "      <td>classification</td>\n",
       "      <td>5</td>\n",
       "    </tr>\n",
       "    <tr>\n",
       "      <th>3</th>\n",
       "      <td>18159</td>\n",
       "      <td>ecology</td>\n",
       "      <td>classification</td>\n",
       "      <td>9</td>\n",
       "    </tr>\n",
       "    <tr>\n",
       "      <th>4</th>\n",
       "      <td>494021</td>\n",
       "      <td>Science&amp;technology</td>\n",
       "      <td>classification</td>\n",
       "      <td>42</td>\n",
       "    </tr>\n",
       "  </tbody>\n",
       "</table>\n",
       "</div>"
      ],
      "text/plain": [
       "     size                type            task  #columns\n",
       "0  188318            commerce      regression       132\n",
       "1   10886            commerce      regression        12\n",
       "2    9984              others  classification         5\n",
       "3   18159             ecology  classification         9\n",
       "4  494021  Science&technology  classification        42"
      ]
     },
     "execution_count": 104,
     "metadata": {},
     "output_type": "execute_result"
    }
   ],
   "source": [
    "basic_info = file[['size', 'type', 'task', '#columns']]\n",
    "basic_info.head()\n"
   ]
  },
  {
   "cell_type": "code",
   "execution_count": 105,
   "metadata": {},
   "outputs": [
    {
     "data": {
      "text/html": [
       "<div>\n",
       "<style scoped>\n",
       "    .dataframe tbody tr th:only-of-type {\n",
       "        vertical-align: middle;\n",
       "    }\n",
       "\n",
       "    .dataframe tbody tr th {\n",
       "        vertical-align: top;\n",
       "    }\n",
       "\n",
       "    .dataframe thead th {\n",
       "        text-align: right;\n",
       "    }\n",
       "</style>\n",
       "<table border=\"1\" class=\"dataframe\">\n",
       "  <thead>\n",
       "    <tr style=\"text-align: right;\">\n",
       "      <th></th>\n",
       "      <th>size</th>\n",
       "      <th>#columns</th>\n",
       "      <th>task_classification</th>\n",
       "      <th>task_regression</th>\n",
       "      <th>type_Science&amp;technology</th>\n",
       "      <th>type_Social</th>\n",
       "      <th>type_commerce</th>\n",
       "      <th>type_ecology</th>\n",
       "      <th>type_others</th>\n",
       "      <th>type_power consumption</th>\n",
       "    </tr>\n",
       "  </thead>\n",
       "  <tbody>\n",
       "    <tr>\n",
       "      <th>0</th>\n",
       "      <td>188318</td>\n",
       "      <td>132</td>\n",
       "      <td>0</td>\n",
       "      <td>1</td>\n",
       "      <td>0</td>\n",
       "      <td>0</td>\n",
       "      <td>1</td>\n",
       "      <td>0</td>\n",
       "      <td>0</td>\n",
       "      <td>0</td>\n",
       "    </tr>\n",
       "    <tr>\n",
       "      <th>1</th>\n",
       "      <td>10886</td>\n",
       "      <td>12</td>\n",
       "      <td>0</td>\n",
       "      <td>1</td>\n",
       "      <td>0</td>\n",
       "      <td>0</td>\n",
       "      <td>1</td>\n",
       "      <td>0</td>\n",
       "      <td>0</td>\n",
       "      <td>0</td>\n",
       "    </tr>\n",
       "    <tr>\n",
       "      <th>2</th>\n",
       "      <td>9984</td>\n",
       "      <td>5</td>\n",
       "      <td>1</td>\n",
       "      <td>0</td>\n",
       "      <td>0</td>\n",
       "      <td>0</td>\n",
       "      <td>0</td>\n",
       "      <td>0</td>\n",
       "      <td>1</td>\n",
       "      <td>0</td>\n",
       "    </tr>\n",
       "    <tr>\n",
       "      <th>3</th>\n",
       "      <td>18159</td>\n",
       "      <td>9</td>\n",
       "      <td>1</td>\n",
       "      <td>0</td>\n",
       "      <td>0</td>\n",
       "      <td>0</td>\n",
       "      <td>0</td>\n",
       "      <td>1</td>\n",
       "      <td>0</td>\n",
       "      <td>0</td>\n",
       "    </tr>\n",
       "    <tr>\n",
       "      <th>4</th>\n",
       "      <td>494021</td>\n",
       "      <td>42</td>\n",
       "      <td>1</td>\n",
       "      <td>0</td>\n",
       "      <td>1</td>\n",
       "      <td>0</td>\n",
       "      <td>0</td>\n",
       "      <td>0</td>\n",
       "      <td>0</td>\n",
       "      <td>0</td>\n",
       "    </tr>\n",
       "  </tbody>\n",
       "</table>\n",
       "</div>"
      ],
      "text/plain": [
       "     size  #columns  task_classification  task_regression  \\\n",
       "0  188318       132                    0                1   \n",
       "1   10886        12                    0                1   \n",
       "2    9984         5                    1                0   \n",
       "3   18159         9                    1                0   \n",
       "4  494021        42                    1                0   \n",
       "\n",
       "   type_Science&technology  type_Social  type_commerce  type_ecology  \\\n",
       "0                        0            0              1             0   \n",
       "1                        0            0              1             0   \n",
       "2                        0            0              0             0   \n",
       "3                        0            0              0             1   \n",
       "4                        1            0              0             0   \n",
       "\n",
       "   type_others  type_power consumption  \n",
       "0            0                       0  \n",
       "1            0                       0  \n",
       "2            1                       0  \n",
       "3            0                       0  \n",
       "4            0                       0  "
      ]
     },
     "execution_count": 105,
     "metadata": {},
     "output_type": "execute_result"
    }
   ],
   "source": [
    "basic_info_one_hot = pd.get_dummies(basic_info, columns=['task', 'type'])\n",
    "basic_info_one_hot.head()\n"
   ]
  },
  {
   "cell_type": "code",
   "execution_count": 106,
   "metadata": {},
   "outputs": [],
   "source": [
    "mean = np.mean(basic_info_one_hot, axis=0)\n",
    "std = np.std(basic_info_one_hot, axis=0)\n",
    "standarized_basic_info_one_hot = (basic_info_one_hot - mean) / std\n"
   ]
  },
  {
   "cell_type": "code",
   "execution_count": null,
   "metadata": {},
   "outputs": [],
   "source": []
  },
  {
   "cell_type": "code",
   "execution_count": 107,
   "metadata": {},
   "outputs": [],
   "source": [
    "# model = TSNE(n_components=4, init='pca', learning_rate='auto')\n",
    "from sklearn.decomposition import PCA\n",
    "model = PCA(n_components=3)\n"
   ]
  },
  {
   "cell_type": "code",
   "execution_count": 108,
   "metadata": {},
   "outputs": [
    {
     "data": {
      "text/html": [
       "<div>\n",
       "<style scoped>\n",
       "    .dataframe tbody tr th:only-of-type {\n",
       "        vertical-align: middle;\n",
       "    }\n",
       "\n",
       "    .dataframe tbody tr th {\n",
       "        vertical-align: top;\n",
       "    }\n",
       "\n",
       "    .dataframe thead th {\n",
       "        text-align: right;\n",
       "    }\n",
       "</style>\n",
       "<table border=\"1\" class=\"dataframe\">\n",
       "  <thead>\n",
       "    <tr style=\"text-align: right;\">\n",
       "      <th></th>\n",
       "      <th>0</th>\n",
       "      <th>1</th>\n",
       "      <th>2</th>\n",
       "    </tr>\n",
       "  </thead>\n",
       "  <tbody>\n",
       "    <tr>\n",
       "      <th>0</th>\n",
       "      <td>1.325391</td>\n",
       "      <td>1.141998</td>\n",
       "      <td>4.577284</td>\n",
       "    </tr>\n",
       "    <tr>\n",
       "      <th>1</th>\n",
       "      <td>-0.392923</td>\n",
       "      <td>1.497946</td>\n",
       "      <td>1.520403</td>\n",
       "    </tr>\n",
       "    <tr>\n",
       "      <th>2</th>\n",
       "      <td>1.480338</td>\n",
       "      <td>0.512162</td>\n",
       "      <td>-3.538516</td>\n",
       "    </tr>\n",
       "    <tr>\n",
       "      <th>3</th>\n",
       "      <td>0.369345</td>\n",
       "      <td>-0.982329</td>\n",
       "      <td>-0.634450</td>\n",
       "    </tr>\n",
       "    <tr>\n",
       "      <th>4</th>\n",
       "      <td>2.852740</td>\n",
       "      <td>-0.815927</td>\n",
       "      <td>0.030782</td>\n",
       "    </tr>\n",
       "  </tbody>\n",
       "</table>\n",
       "</div>"
      ],
      "text/plain": [
       "          0         1         2\n",
       "0  1.325391  1.141998  4.577284\n",
       "1 -0.392923  1.497946  1.520403\n",
       "2  1.480338  0.512162 -3.538516\n",
       "3  0.369345 -0.982329 -0.634450\n",
       "4  2.852740 -0.815927  0.030782"
      ]
     },
     "execution_count": 108,
     "metadata": {},
     "output_type": "execute_result"
    }
   ],
   "source": [
    "pca_basic_info = model.fit_transform(standarized_basic_info_one_hot)\n",
    "pca_basic_info = pd.DataFrame(pca_basic_info)\n",
    "pca_basic_info.head()\n"
   ]
  },
  {
   "cell_type": "code",
   "execution_count": 109,
   "metadata": {},
   "outputs": [],
   "source": [
    "missing_value_features = file[['ave_rows_with_missing_values_ratio_per_window',\n",
    "       'max_rows_with_missing_values_ratio_per_window',\n",
    "       'total_rows_with_missing_values_ratio', 'overall missing value ratio',\n",
    "       'overall average null columns ratio',\n",
    "       'average null columns ratio among all windows',\n",
    "       'max average #null columns ratio among all windows',\n",
    "       'average missing value ratio among all windows',\n",
    "       'max missing value ration among all windows']]\n",
    "\n",
    "pca_missing_value_features = model.fit_transform(missing_value_features)\n",
    "pca_missing_value_features = pd.DataFrame(pca_missing_value_features)\n"
   ]
  },
  {
   "cell_type": "code",
   "execution_count": 110,
   "metadata": {},
   "outputs": [],
   "source": [
    "outliers_features = file[['IForest_ave_anomaly_ratio', 'IForest_max_anomaly_ratio',\n",
    "       'ECOD_ave_anomaly_ratio', 'ECOD_max_anomaly_ratio',\n",
    "       'mean_ave_anomaly_ratio', 'max_ave_anomaly_ratio',\n",
    "       'ECOD_overall_anomaly_ratio', 'IForest_overall_anomaly_ratio',\n",
    "       'ave_overall_anomaly_ratio']]\n",
    "pca_outliers_features = model.fit_transform(outliers_features)\n",
    "pca_outliers_features = pd.DataFrame(pca_outliers_features)\n"
   ]
  },
  {
   "cell_type": "code",
   "execution_count": 111,
   "metadata": {},
   "outputs": [],
   "source": [
    "data_drift_features = file[['hdddm_drift_percentage',\n",
    "       'kdq_drift_percentage', 'ave_drift_percentage',\n",
    "       'hdddm_warning_percentage', 'kdq_warning_percentage',\n",
    "       'ave_warning_percentage', 'ks_ave_drift_percentage',\n",
    "       'ks_max_drift_percentage', 'hdddm_ave_drift_percentage',\n",
    "       'hdddm_max_drift_percentage', 'kdq_ave_drift_percentage',\n",
    "       'kdq_max_drift_percentage', 'cbdb_ave_drift_percentage',\n",
    "       'cbdb_max_drift_percentage', 'pca_ave_drift_percentage',\n",
    "       'pca_max_drift_percentage', 'ave_drift_percentage.1',\n",
    "       'max_drift_percentage', 'ks_ave_warning_percentage',\n",
    "       'ks_max_warning_percentage', 'hdddm_ave_warning_percentage',\n",
    "       'hdddm_max_warning_percentage', 'kdq_ave_warning_percentage',\n",
    "       'kdq_max_warning_percentage', 'cbdb_ave_warning_percentage',\n",
    "       'cbdb_max_warning_percentage', 'pca_ave_warning_percentage',\n",
    "       'pca_max_warning_percentage', 'ave_warning_percentage.1',\n",
    "       'max_warning_percentage']]\n",
    "pca_data_drift_features = model.fit_transform(data_drift_features)\n",
    "pca_data_drift_features = pd.DataFrame(pca_data_drift_features)\n"
   ]
  },
  {
   "cell_type": "code",
   "execution_count": 112,
   "metadata": {},
   "outputs": [],
   "source": [
    "concept_drift_features = file[['perm', 'adwin', 'ddm', 'eddm',\n",
    "       'concept_drift_ave', 'adwin_warning', 'ddm_warning', 'eddm_warning',\n",
    "       'ave_concept_drift_warning']]\n",
    "pca_concept_drift_features = model.fit_transform(concept_drift_features)\n",
    "pca_concept_drift_features = pd.DataFrame(pca_concept_drift_features)\n"
   ]
  },
  {
   "cell_type": "code",
   "execution_count": 113,
   "metadata": {},
   "outputs": [],
   "source": [
    "combined_pca_features = pd.concat([pca_basic_info, pca_missing_value_features, pca_concept_drift_features, pca_data_drift_features, pca_outliers_features], axis=1)\n"
   ]
  },
  {
   "cell_type": "code",
   "execution_count": 114,
   "metadata": {},
   "outputs": [
    {
     "data": {
      "text/plain": [
       "KMeans(n_clusters=5, random_state=42)"
      ]
     },
     "execution_count": 114,
     "metadata": {},
     "output_type": "execute_result"
    }
   ],
   "source": [
    "from sklearn.cluster import KMeans\n",
    "\n",
    "k = 5  # Choose the desired number of clusters\n",
    "kmeans = KMeans(n_clusters=k, random_state=42)\n",
    "kmeans.fit(combined_pca_features)\n"
   ]
  },
  {
   "cell_type": "code",
   "execution_count": 115,
   "metadata": {},
   "outputs": [
    {
     "data": {
      "text/plain": [
       "array([0, 0, 3, 1, 1, 0, 4, 2, 2, 2, 2, 2, 2, 2, 2, 2, 2, 2, 2, 2, 2, 2,\n",
       "       2, 2, 2, 2, 1, 1, 1, 1, 1, 1, 1, 1, 1, 1, 1, 2, 4, 4, 3, 0, 0, 0,\n",
       "       2, 2, 4, 4, 2, 1, 0, 2, 2, 2, 2, 2], dtype=int32)"
      ]
     },
     "execution_count": 115,
     "metadata": {},
     "output_type": "execute_result"
    }
   ],
   "source": [
    "kmeans.labels_\n"
   ]
  },
  {
   "cell_type": "code",
   "execution_count": 116,
   "metadata": {},
   "outputs": [],
   "source": [
    "combined_pca_features['cluster'] = kmeans.labels_\n"
   ]
  },
  {
   "cell_type": "code",
   "execution_count": 117,
   "metadata": {},
   "outputs": [
    {
     "name": "stdout",
     "output_type": "stream",
     "text": [
      "[5, 29, 16, 40, 6]\n"
     ]
    }
   ],
   "source": [
    "representative_datasets_indices = []\n",
    "\n",
    "for i in range(k):\n",
    "    cluster_data = combined_pca_features[combined_pca_features['cluster'] == i]\n",
    "    cluster_center = kmeans.cluster_centers_[i]\n",
    "    \n",
    "    # Calculate the Euclidean distance between each data point and the cluster center\n",
    "    distances = np.linalg.norm(cluster_data.iloc[:, :-1].values - cluster_center, axis=1)\n",
    "    \n",
    "    # Find the index of the dataset with the minimum distance to the cluster center\n",
    "    min_distance_index = np.argmin(distances)\n",
    "    \n",
    "    # Get the representative dataset's index in the original dataframe\n",
    "    representative_index = cluster_data.index[min_distance_index]\n",
    "    \n",
    "    # Store the representative dataset\n",
    "    representative_datasets_indices.append(representative_index)\n",
    "    \n",
    "print(representative_datasets_indices)\n"
   ]
  },
  {
   "cell_type": "code",
   "execution_count": 118,
   "metadata": {},
   "outputs": [
    {
     "name": "stdout",
     "output_type": "stream",
     "text": [
      "5            dataset_experiment_info/electricity_prices\n",
      "29    dataset_experiment_info/insects/incremental_re...\n",
      "16     dataset_experiment_info/beijing_multisite/shunyi\n",
      "40               dataset_experiment_info/room_occupancy\n",
      "6                       dataset_experiment_info/tetouan\n",
      "Name: dataset, dtype: object\n"
     ]
    }
   ],
   "source": [
    "representative_datasets = file['dataset'].iloc[representative_datasets_indices]\n",
    "print(representative_datasets)\n"
   ]
  }
 ],
 "metadata": {
  "kernelspec": {
   "display_name": "Python 3",
   "language": "python",
   "name": "python3"
  },
  "language_info": {
   "codemirror_mode": {
    "name": "ipython",
    "version": 3
   },
   "file_extension": ".py",
   "mimetype": "text/x-python",
   "name": "python",
   "nbconvert_exporter": "python",
   "pygments_lexer": "ipython3",
   "version": "3.10.6"
  },
  "orig_nbformat": 4
 },
 "nbformat": 4,
 "nbformat_minor": 2
}
